{
 "cells": [
  {
   "cell_type": "code",
   "execution_count": 1,
   "outputs": [],
   "source": [
    "import pandas as pd\n",
    "\n",
    "class DatasetLoader:\n",
    "    def __init__(self, file_path):\n",
    "        self.file_path = file_path\n",
    "\n",
    "    def load_dataset(self):\n",
    "        \"\"\"\n",
    "        Carga el dataset desde la ruta especificada y retorna un DataFrame de pandas.\n",
    "        \"\"\"\n",
    "        try:\n",
    "            data = pd.read_csv(self.file_path)\n",
    "            return data\n",
    "        except FileNotFoundError:\n",
    "            print(\"El archivo no fue encontrado.\")\n",
    "            return None\n",
    "\n",
    "    def preview_dataset(self, num_rows=5):\n",
    "        \"\"\"\n",
    "        Muestra las primeras 'num_rows' filas del dataset.\n",
    "        \"\"\"\n",
    "        data = self.load_dataset()\n",
    "        if data is not None:\n",
    "            print(data.head(num_rows))\n",
    "        else:\n",
    "            print(\"No hay datos para mostrar.\")"
   ],
   "metadata": {
    "collapsed": false,
    "ExecuteTime": {
     "end_time": "2023-12-15T01:06:57.607510Z",
     "start_time": "2023-12-15T01:06:57.141261Z"
    }
   },
   "id": "ecbf9255831b78ab"
  },
  {
   "cell_type": "code",
   "execution_count": 2,
   "outputs": [
    {
     "name": "stdout",
     "output_type": "stream",
     "text": [
      "   Question_ID                                          Questions  \\\n",
      "0      1590140        What does it mean to have a mental illness?   \n",
      "1      2110618                    Who does mental illness affect?   \n",
      "2      6361820                        What causes mental illness?   \n",
      "3      9434130  What are some of the warning signs of mental i...   \n",
      "4      7657263            Can people with mental illness recover?   \n",
      "\n",
      "                                             Answers  \n",
      "0  Mental illnesses are health conditions that di...  \n",
      "1  It is estimated that mental illness affects 1 ...  \n",
      "2  It is estimated that mental illness affects 1 ...  \n",
      "3  Symptoms of mental health disorders vary depen...  \n",
      "4  When healing from mental illness, early identi...  \n"
     ]
    }
   ],
   "source": [
    "# Crear una instancia de DatasetLoader y cargar los datos\n",
    "loader = DatasetLoader('/Users/adrianinfantes/Desktop/AIR/COLLEGE AND STUDIES/Data_Scientist_formation/Platzi/LangChainCourse/data/Mental_Health_FAQ.csv')\n",
    "\n",
    "# Vista previa del dataset\n",
    "loader.preview_dataset()"
   ],
   "metadata": {
    "collapsed": false,
    "ExecuteTime": {
     "end_time": "2023-12-15T01:07:00.882363Z",
     "start_time": "2023-12-15T01:07:00.857284Z"
    }
   },
   "id": "ab3149ee2ecbbd24"
  },
  {
   "cell_type": "code",
   "execution_count": 3,
   "outputs": [],
   "source": [
    "class DataAnalyzer:\n",
    "    def __init__(self, dataset):\n",
    "        self.dataset = dataset\n",
    "\n",
    "    def get_dataset_info(self):\n",
    "        \"\"\"\n",
    "        Imprime información general sobre el dataset, incluyendo dimensiones y tipos de datos.\n",
    "        \"\"\"\n",
    "        print(\"Información del Dataset:\")\n",
    "        print(self.dataset.info())\n",
    "\n",
    "    def check_missing_values(self):\n",
    "        \"\"\"\n",
    "        Verifica y muestra la cantidad de valores nulos en cada columna del dataset.\n",
    "        \"\"\"\n",
    "        missing_values = self.dataset.isnull().sum()\n",
    "        print(\"Valores Nulos en el Dataset:\")\n",
    "        print(missing_values)"
   ],
   "metadata": {
    "collapsed": false,
    "ExecuteTime": {
     "end_time": "2023-12-15T01:07:02.126710Z",
     "start_time": "2023-12-15T01:07:02.123397Z"
    }
   },
   "id": "346ee58570af5553"
  },
  {
   "cell_type": "code",
   "execution_count": 4,
   "outputs": [
    {
     "name": "stdout",
     "output_type": "stream",
     "text": [
      "Información del Dataset:\n",
      "<class 'pandas.core.frame.DataFrame'>\n",
      "RangeIndex: 98 entries, 0 to 97\n",
      "Data columns (total 3 columns):\n",
      " #   Column       Non-Null Count  Dtype \n",
      "---  ------       --------------  ----- \n",
      " 0   Question_ID  98 non-null     int64 \n",
      " 1   Questions    98 non-null     object\n",
      " 2   Answers      98 non-null     object\n",
      "dtypes: int64(1), object(2)\n",
      "memory usage: 2.4+ KB\n",
      "None\n",
      "Valores Nulos en el Dataset:\n",
      "Question_ID    0\n",
      "Questions      0\n",
      "Answers        0\n",
      "dtype: int64\n"
     ]
    }
   ],
   "source": [
    "# Usando las clases DatasetLoader y DataAnalyzer\n",
    "dataset = loader.load_dataset()\n",
    "\n",
    "analyzer = DataAnalyzer(dataset)\n",
    "analyzer.get_dataset_info()\n",
    "analyzer.check_missing_values()"
   ],
   "metadata": {
    "collapsed": false,
    "ExecuteTime": {
     "end_time": "2023-12-15T01:07:03.083150Z",
     "start_time": "2023-12-15T01:07:03.073557Z"
    }
   },
   "id": "ac269a5b4f0b433f"
  },
  {
   "cell_type": "code",
   "execution_count": 5,
   "outputs": [],
   "source": [
    "import re\n",
    "import pandas as pd\n",
    "\n",
    "class DataPreprocessor:\n",
    "    def __init__(self, dataset):\n",
    "        self.dataset = self.convert_to_dataframe(dataset)\n",
    "\n",
    "    def convert_to_dataframe(self, dataset):\n",
    "        \"\"\"\n",
    "        Convierte el dataset en un DataFrame de pandas si aún no lo es.\n",
    "        \"\"\"\n",
    "        if not isinstance(dataset, pd.DataFrame):\n",
    "            try:\n",
    "                dataset = pd.DataFrame(dataset)\n",
    "            except Exception as e:\n",
    "                print(f\"Error al convertir el dataset a DataFrame: {e}\")\n",
    "                return None\n",
    "        return dataset\n",
    "\n",
    "    def fill_missing_values(self, column, fill_value=\"\"):\n",
    "        \"\"\"\n",
    "        Rellena los valores nulos en una columna específica con un valor dado.\n",
    "        \"\"\"\n",
    "        self.dataset[column] = self.dataset[column].fillna(fill_value)\n",
    "\n",
    "    def clean_text(self, column):\n",
    "        \"\"\"\n",
    "        Realiza una limpieza avanzada del texto en una columna específica.\n",
    "        \"\"\"\n",
    "        self.dataset[column] = self.dataset[column].apply(self._clean_text_helper)\n",
    "\n",
    "    @staticmethod\n",
    "    def _clean_text_helper(text):\n",
    "        \"\"\"\n",
    "        Función auxiliar para limpiar texto.\n",
    "        \"\"\"\n",
    "        # Eliminar caracteres especiales y números\n",
    "        text = re.sub('[^A-Za-z]+', ' ', text)\n",
    "        # Convertir a minúsculas\n",
    "        text = text.lower()\n",
    "        # Eliminar espacios extra\n",
    "        text = text.strip()\n",
    "        return text"
   ],
   "metadata": {
    "collapsed": false,
    "ExecuteTime": {
     "end_time": "2023-12-15T01:07:03.844583Z",
     "start_time": "2023-12-15T01:07:03.838637Z"
    }
   },
   "id": "8735b92675b33b8c"
  },
  {
   "cell_type": "code",
   "execution_count": 6,
   "outputs": [
    {
     "data": {
      "text/plain": "   Question_ID                                          Questions  \\\n0      1590140         what does it mean to have a mental illness   \n1      2110618                     who does mental illness affect   \n2      6361820                         what causes mental illness   \n3      9434130  what are some of the warning signs of mental i...   \n4      7657263             can people with mental illness recover   \n\n                                             Answers  \n0  mental illnesses are health conditions that di...  \n1  it is estimated that mental illness affects in...  \n2  it is estimated that mental illness affects in...  \n3  symptoms of mental health disorders vary depen...  \n4  when healing from mental illness early identif...  ",
      "text/html": "<div>\n<style scoped>\n    .dataframe tbody tr th:only-of-type {\n        vertical-align: middle;\n    }\n\n    .dataframe tbody tr th {\n        vertical-align: top;\n    }\n\n    .dataframe thead th {\n        text-align: right;\n    }\n</style>\n<table border=\"1\" class=\"dataframe\">\n  <thead>\n    <tr style=\"text-align: right;\">\n      <th></th>\n      <th>Question_ID</th>\n      <th>Questions</th>\n      <th>Answers</th>\n    </tr>\n  </thead>\n  <tbody>\n    <tr>\n      <th>0</th>\n      <td>1590140</td>\n      <td>what does it mean to have a mental illness</td>\n      <td>mental illnesses are health conditions that di...</td>\n    </tr>\n    <tr>\n      <th>1</th>\n      <td>2110618</td>\n      <td>who does mental illness affect</td>\n      <td>it is estimated that mental illness affects in...</td>\n    </tr>\n    <tr>\n      <th>2</th>\n      <td>6361820</td>\n      <td>what causes mental illness</td>\n      <td>it is estimated that mental illness affects in...</td>\n    </tr>\n    <tr>\n      <th>3</th>\n      <td>9434130</td>\n      <td>what are some of the warning signs of mental i...</td>\n      <td>symptoms of mental health disorders vary depen...</td>\n    </tr>\n    <tr>\n      <th>4</th>\n      <td>7657263</td>\n      <td>can people with mental illness recover</td>\n      <td>when healing from mental illness early identif...</td>\n    </tr>\n  </tbody>\n</table>\n</div>"
     },
     "execution_count": 6,
     "metadata": {},
     "output_type": "execute_result"
    }
   ],
   "source": [
    "# Uso de la clase DataPreprocessor\n",
    "preprocessor = DataPreprocessor(dataset)\n",
    "preprocessor.fill_missing_values(\"Questions\")\n",
    "preprocessor.fill_missing_values(\"Answers\")\n",
    "preprocessor.clean_text(\"Questions\")\n",
    "preprocessor.clean_text(\"Answers\")\n",
    "\n",
    "# Vemos el resultado\n",
    "dataset.head()"
   ],
   "metadata": {
    "collapsed": false,
    "ExecuteTime": {
     "end_time": "2023-12-15T01:07:04.612304Z",
     "start_time": "2023-12-15T01:07:04.605568Z"
    }
   },
   "id": "8df8599d7219d9a"
  },
  {
   "cell_type": "code",
   "execution_count": 7,
   "outputs": [],
   "source": [
    "from textblob import TextBlob\n",
    "\n",
    "class SentimentAnalyzer:\n",
    "    def __init__(self, dataset):\n",
    "        self.dataset = dataset\n",
    "\n",
    "    def add_polarity_columns(self, question_col, answer_col):\n",
    "        self.dataset['question_polarity'] = self.dataset[question_col].apply(self._calculate_polarity)\n",
    "        self.dataset['answer_polarity'] = self.dataset[answer_col].apply(self._calculate_polarity)\n",
    "\n",
    "    @staticmethod\n",
    "    def _calculate_polarity(text):\n",
    "        return TextBlob(text).sentiment.polarity"
   ],
   "metadata": {
    "collapsed": false,
    "ExecuteTime": {
     "end_time": "2023-12-15T01:07:07.281268Z",
     "start_time": "2023-12-15T01:07:06.093046Z"
    }
   },
   "id": "630c0152f7470d54"
  },
  {
   "cell_type": "code",
   "execution_count": 8,
   "outputs": [
    {
     "data": {
      "text/plain": "   Question_ID                                          Questions  \\\n0      1590140         what does it mean to have a mental illness   \n1      2110618                     who does mental illness affect   \n2      6361820                         what causes mental illness   \n3      9434130  what are some of the warning signs of mental i...   \n4      7657263             can people with mental illness recover   \n\n                                             Answers  question_polarity  \\\n0  mental illnesses are health conditions that di...           -0.20625   \n1  it is estimated that mental illness affects in...           -0.10000   \n2  it is estimated that mental illness affects in...           -0.10000   \n3  symptoms of mental health disorders vary depen...           -0.10000   \n4  when healing from mental illness early identif...           -0.10000   \n\n   answer_polarity  \n0         0.029762  \n1        -0.021921  \n2        -0.021921  \n3        -0.066892  \n4         0.164336  ",
      "text/html": "<div>\n<style scoped>\n    .dataframe tbody tr th:only-of-type {\n        vertical-align: middle;\n    }\n\n    .dataframe tbody tr th {\n        vertical-align: top;\n    }\n\n    .dataframe thead th {\n        text-align: right;\n    }\n</style>\n<table border=\"1\" class=\"dataframe\">\n  <thead>\n    <tr style=\"text-align: right;\">\n      <th></th>\n      <th>Question_ID</th>\n      <th>Questions</th>\n      <th>Answers</th>\n      <th>question_polarity</th>\n      <th>answer_polarity</th>\n    </tr>\n  </thead>\n  <tbody>\n    <tr>\n      <th>0</th>\n      <td>1590140</td>\n      <td>what does it mean to have a mental illness</td>\n      <td>mental illnesses are health conditions that di...</td>\n      <td>-0.20625</td>\n      <td>0.029762</td>\n    </tr>\n    <tr>\n      <th>1</th>\n      <td>2110618</td>\n      <td>who does mental illness affect</td>\n      <td>it is estimated that mental illness affects in...</td>\n      <td>-0.10000</td>\n      <td>-0.021921</td>\n    </tr>\n    <tr>\n      <th>2</th>\n      <td>6361820</td>\n      <td>what causes mental illness</td>\n      <td>it is estimated that mental illness affects in...</td>\n      <td>-0.10000</td>\n      <td>-0.021921</td>\n    </tr>\n    <tr>\n      <th>3</th>\n      <td>9434130</td>\n      <td>what are some of the warning signs of mental i...</td>\n      <td>symptoms of mental health disorders vary depen...</td>\n      <td>-0.10000</td>\n      <td>-0.066892</td>\n    </tr>\n    <tr>\n      <th>4</th>\n      <td>7657263</td>\n      <td>can people with mental illness recover</td>\n      <td>when healing from mental illness early identif...</td>\n      <td>-0.10000</td>\n      <td>0.164336</td>\n    </tr>\n  </tbody>\n</table>\n</div>"
     },
     "execution_count": 8,
     "metadata": {},
     "output_type": "execute_result"
    }
   ],
   "source": [
    "# Analizar Sentimientos\n",
    "sentiment_analyzer = SentimentAnalyzer(dataset)\n",
    "sentiment_analyzer.add_polarity_columns(\"Questions\", \"Answers\")\n",
    "\n",
    "# Vemos el resultado\n",
    "dataset.head()"
   ],
   "metadata": {
    "collapsed": false,
    "ExecuteTime": {
     "end_time": "2023-12-15T01:07:12.180531Z",
     "start_time": "2023-12-15T01:07:12.102953Z"
    }
   },
   "id": "7f387b09b612fb60"
  },
  {
   "cell_type": "code",
   "execution_count": 9,
   "outputs": [],
   "source": [
    "class TextLengthAdder:\n",
    "    def __init__(self, dataset):\n",
    "        self.dataset = dataset\n",
    "\n",
    "    def add_text_length_columns(self, question_col, answer_col):\n",
    "        \"\"\"\n",
    "        Añade columnas al dataset que indican la longitud de las preguntas y respuestas.\n",
    "        \"\"\"\n",
    "        self.dataset['question_length'] = self.dataset[question_col].apply(len)\n",
    "        self.dataset['answer_length'] = self.dataset[answer_col].apply(len)"
   ],
   "metadata": {
    "collapsed": false,
    "ExecuteTime": {
     "end_time": "2023-12-15T01:07:14.159715Z",
     "start_time": "2023-12-15T01:07:14.157776Z"
    }
   },
   "id": "893c6dc18349878"
  },
  {
   "cell_type": "code",
   "execution_count": 10,
   "outputs": [
    {
     "data": {
      "text/plain": "   Question_ID                                          Questions  \\\n0      1590140         what does it mean to have a mental illness   \n1      2110618                     who does mental illness affect   \n2      6361820                         what causes mental illness   \n3      9434130  what are some of the warning signs of mental i...   \n4      7657263             can people with mental illness recover   \n\n                                             Answers  question_polarity  \\\n0  mental illnesses are health conditions that di...           -0.20625   \n1  it is estimated that mental illness affects in...           -0.10000   \n2  it is estimated that mental illness affects in...           -0.10000   \n3  symptoms of mental health disorders vary depen...           -0.10000   \n4  when healing from mental illness early identif...           -0.10000   \n\n   answer_polarity  question_length  answer_length  \n0         0.029762               42           1324  \n1        -0.021921               30           1208  \n2        -0.021921               26           1208  \n3        -0.066892               52           1339  \n4         0.164336               38            576  ",
      "text/html": "<div>\n<style scoped>\n    .dataframe tbody tr th:only-of-type {\n        vertical-align: middle;\n    }\n\n    .dataframe tbody tr th {\n        vertical-align: top;\n    }\n\n    .dataframe thead th {\n        text-align: right;\n    }\n</style>\n<table border=\"1\" class=\"dataframe\">\n  <thead>\n    <tr style=\"text-align: right;\">\n      <th></th>\n      <th>Question_ID</th>\n      <th>Questions</th>\n      <th>Answers</th>\n      <th>question_polarity</th>\n      <th>answer_polarity</th>\n      <th>question_length</th>\n      <th>answer_length</th>\n    </tr>\n  </thead>\n  <tbody>\n    <tr>\n      <th>0</th>\n      <td>1590140</td>\n      <td>what does it mean to have a mental illness</td>\n      <td>mental illnesses are health conditions that di...</td>\n      <td>-0.20625</td>\n      <td>0.029762</td>\n      <td>42</td>\n      <td>1324</td>\n    </tr>\n    <tr>\n      <th>1</th>\n      <td>2110618</td>\n      <td>who does mental illness affect</td>\n      <td>it is estimated that mental illness affects in...</td>\n      <td>-0.10000</td>\n      <td>-0.021921</td>\n      <td>30</td>\n      <td>1208</td>\n    </tr>\n    <tr>\n      <th>2</th>\n      <td>6361820</td>\n      <td>what causes mental illness</td>\n      <td>it is estimated that mental illness affects in...</td>\n      <td>-0.10000</td>\n      <td>-0.021921</td>\n      <td>26</td>\n      <td>1208</td>\n    </tr>\n    <tr>\n      <th>3</th>\n      <td>9434130</td>\n      <td>what are some of the warning signs of mental i...</td>\n      <td>symptoms of mental health disorders vary depen...</td>\n      <td>-0.10000</td>\n      <td>-0.066892</td>\n      <td>52</td>\n      <td>1339</td>\n    </tr>\n    <tr>\n      <th>4</th>\n      <td>7657263</td>\n      <td>can people with mental illness recover</td>\n      <td>when healing from mental illness early identif...</td>\n      <td>-0.10000</td>\n      <td>0.164336</td>\n      <td>38</td>\n      <td>576</td>\n    </tr>\n  </tbody>\n</table>\n</div>"
     },
     "execution_count": 10,
     "metadata": {},
     "output_type": "execute_result"
    }
   ],
   "source": [
    "# Uso de la clase\n",
    "length_adder = TextLengthAdder(dataset)\n",
    "length_adder.add_text_length_columns('Questions', 'Answers')\n",
    "\n",
    "# Ver las primeras filas del dataset para confirmar la adición de las columnas\n",
    "dataset.head()"
   ],
   "metadata": {
    "collapsed": false,
    "ExecuteTime": {
     "end_time": "2023-12-15T01:07:15.026584Z",
     "start_time": "2023-12-15T01:07:15.017709Z"
    }
   },
   "id": "f57886637a6407ce"
  },
  {
   "cell_type": "code",
   "execution_count": 11,
   "outputs": [],
   "source": [
    "from transformers import BertTokenizer, BertModel\n",
    "import torch\n",
    "\n",
    "class EmbeddingGenerator:\n",
    "    def __init__(self, dataset):\n",
    "        self.dataset = dataset\n",
    "        self.tokenizer = BertTokenizer.from_pretrained('bert-base-uncased')\n",
    "        self.model = BertModel.from_pretrained('bert-base-uncased', return_dict=True)\n",
    "\n",
    "    def add_embedding_columns(self, question_col, answer_col):\n",
    "        self.dataset['question_embedding'] = self.dataset[question_col].apply(self._generate_embeddings)\n",
    "        self.dataset['answer_embedding'] = self.dataset[answer_col].apply(self._generate_embeddings)\n",
    "\n",
    "    def _generate_embeddings(self, text):\n",
    "        # Truncar o dividir el texto para ajustarse al límite de token\n",
    "        inputs = self.tokenizer(text, return_tensors=\"pt\", max_length=512, truncation=True)\n",
    "        with torch.no_grad():\n",
    "            outputs = self.model(**inputs)\n",
    "        return outputs.last_hidden_state.mean(dim=1).numpy()"
   ],
   "metadata": {
    "collapsed": false,
    "ExecuteTime": {
     "end_time": "2023-12-15T01:07:18.289584Z",
     "start_time": "2023-12-15T01:07:16.853688Z"
    }
   },
   "id": "fbb835acf2e61139"
  },
  {
   "cell_type": "code",
   "execution_count": 12,
   "outputs": [
    {
     "data": {
      "text/plain": "   Question_ID                                          Questions  \\\n0      1590140         what does it mean to have a mental illness   \n1      2110618                     who does mental illness affect   \n2      6361820                         what causes mental illness   \n3      9434130  what are some of the warning signs of mental i...   \n4      7657263             can people with mental illness recover   \n\n                                             Answers  question_polarity  \\\n0  mental illnesses are health conditions that di...           -0.20625   \n1  it is estimated that mental illness affects in...           -0.10000   \n2  it is estimated that mental illness affects in...           -0.10000   \n3  symptoms of mental health disorders vary depen...           -0.10000   \n4  when healing from mental illness early identif...           -0.10000   \n\n   answer_polarity  question_length  answer_length  \\\n0         0.029762               42           1324   \n1        -0.021921               30           1208   \n2        -0.021921               26           1208   \n3        -0.066892               52           1339   \n4         0.164336               38            576   \n\n                                  question_embedding  \\\n0  [[0.4737447, 0.30749866, -0.34513614, -0.06363...   \n1  [[-0.15863334, 0.4255557, -0.2734234, -0.03929...   \n2  [[0.2304068, 0.32298884, -0.41936374, -0.14449...   \n3  [[-0.08530686, 0.41394427, -0.14627229, -0.305...   \n4  [[-0.23590559, 0.17182596, -0.15402792, -0.234...   \n\n                                    answer_embedding  \n0  [[-0.28696477, 0.47339454, 0.06885683, -0.1039...  \n1  [[-0.3362111, 0.53853524, 0.19835782, -0.12483...  \n2  [[-0.3362111, 0.53853524, 0.19835782, -0.12483...  \n3  [[-0.23423892, 0.4693675, 0.14461, -0.12486041...  \n4  [[-0.32375985, 0.45347068, 0.19493593, -0.1679...  ",
      "text/html": "<div>\n<style scoped>\n    .dataframe tbody tr th:only-of-type {\n        vertical-align: middle;\n    }\n\n    .dataframe tbody tr th {\n        vertical-align: top;\n    }\n\n    .dataframe thead th {\n        text-align: right;\n    }\n</style>\n<table border=\"1\" class=\"dataframe\">\n  <thead>\n    <tr style=\"text-align: right;\">\n      <th></th>\n      <th>Question_ID</th>\n      <th>Questions</th>\n      <th>Answers</th>\n      <th>question_polarity</th>\n      <th>answer_polarity</th>\n      <th>question_length</th>\n      <th>answer_length</th>\n      <th>question_embedding</th>\n      <th>answer_embedding</th>\n    </tr>\n  </thead>\n  <tbody>\n    <tr>\n      <th>0</th>\n      <td>1590140</td>\n      <td>what does it mean to have a mental illness</td>\n      <td>mental illnesses are health conditions that di...</td>\n      <td>-0.20625</td>\n      <td>0.029762</td>\n      <td>42</td>\n      <td>1324</td>\n      <td>[[0.4737447, 0.30749866, -0.34513614, -0.06363...</td>\n      <td>[[-0.28696477, 0.47339454, 0.06885683, -0.1039...</td>\n    </tr>\n    <tr>\n      <th>1</th>\n      <td>2110618</td>\n      <td>who does mental illness affect</td>\n      <td>it is estimated that mental illness affects in...</td>\n      <td>-0.10000</td>\n      <td>-0.021921</td>\n      <td>30</td>\n      <td>1208</td>\n      <td>[[-0.15863334, 0.4255557, -0.2734234, -0.03929...</td>\n      <td>[[-0.3362111, 0.53853524, 0.19835782, -0.12483...</td>\n    </tr>\n    <tr>\n      <th>2</th>\n      <td>6361820</td>\n      <td>what causes mental illness</td>\n      <td>it is estimated that mental illness affects in...</td>\n      <td>-0.10000</td>\n      <td>-0.021921</td>\n      <td>26</td>\n      <td>1208</td>\n      <td>[[0.2304068, 0.32298884, -0.41936374, -0.14449...</td>\n      <td>[[-0.3362111, 0.53853524, 0.19835782, -0.12483...</td>\n    </tr>\n    <tr>\n      <th>3</th>\n      <td>9434130</td>\n      <td>what are some of the warning signs of mental i...</td>\n      <td>symptoms of mental health disorders vary depen...</td>\n      <td>-0.10000</td>\n      <td>-0.066892</td>\n      <td>52</td>\n      <td>1339</td>\n      <td>[[-0.08530686, 0.41394427, -0.14627229, -0.305...</td>\n      <td>[[-0.23423892, 0.4693675, 0.14461, -0.12486041...</td>\n    </tr>\n    <tr>\n      <th>4</th>\n      <td>7657263</td>\n      <td>can people with mental illness recover</td>\n      <td>when healing from mental illness early identif...</td>\n      <td>-0.10000</td>\n      <td>0.164336</td>\n      <td>38</td>\n      <td>576</td>\n      <td>[[-0.23590559, 0.17182596, -0.15402792, -0.234...</td>\n      <td>[[-0.32375985, 0.45347068, 0.19493593, -0.1679...</td>\n    </tr>\n  </tbody>\n</table>\n</div>"
     },
     "execution_count": 12,
     "metadata": {},
     "output_type": "execute_result"
    }
   ],
   "source": [
    "# Generar Embeddings\n",
    "embedding_generator = EmbeddingGenerator(dataset)\n",
    "embedding_generator.add_embedding_columns(\"Questions\", \"Answers\")\n",
    "\n",
    "# Vemos el resultado\n",
    "dataset.head()"
   ],
   "metadata": {
    "collapsed": false,
    "ExecuteTime": {
     "end_time": "2023-12-15T01:07:34.852980Z",
     "start_time": "2023-12-15T01:07:19.707546Z"
    }
   },
   "id": "4aa45838abd22099"
  },
  {
   "cell_type": "code",
   "execution_count": 13,
   "outputs": [],
   "source": [
    "import numpy as np\n",
    "import pandas as pd\n",
    "from sklearn.model_selection import train_test_split\n",
    "from sklearn.preprocessing import StandardScaler\n",
    "import ast\n",
    "\n",
    "class DatasetPreparation:\n",
    "    def __init__(self, dataset):\n",
    "        self.dataset = dataset\n",
    "\n",
    "    def convert_embeddings_to_numeric(self, embedding_columns):\n",
    "        \"\"\"\n",
    "        Convierte las columnas de embeddings de string a arrays numéricos de numpy.\n",
    "        \"\"\"\n",
    "        for column in embedding_columns:\n",
    "            self.dataset[column] = self.dataset[column].apply(self._convert_embedding)\n",
    "\n",
    "    @staticmethod\n",
    "    def _convert_embedding(embedding_str):\n",
    "        \"\"\"\n",
    "        Convierte un string que representa un embedding en un array numérico de numpy.\n",
    "        \"\"\"\n",
    "        try:\n",
    "            # Convierte el string a una lista y luego a un array de numpy\n",
    "            embedding_list = ast.literal_eval(embedding_str)\n",
    "            return np.array(embedding_list)\n",
    "        except ValueError:\n",
    "            return np.array([])\n",
    "\n",
    "    def normalize_embeddings(self, embedding_columns):\n",
    "        \"\"\"\n",
    "        Normaliza las columnas de embeddings especificadas.\n",
    "        \"\"\"\n",
    "        scaler = StandardScaler()\n",
    "        for column in embedding_columns:\n",
    "            # Asegurarse de que los embeddings están en el formato correcto\n",
    "            valid_embeddings = [emb for emb in self.dataset[column] if emb.size > 0]\n",
    "            if valid_embeddings:\n",
    "                scaled_embeddings = scaler.fit_transform(np.stack(valid_embeddings))\n",
    "                self.dataset[column] = list(scaled_embeddings)\n",
    "\n",
    "    def split_dataset(self, test_size=0.3, val_size=0.5):\n",
    "        \"\"\"\n",
    "        Divide el dataset en conjuntos de entrenamiento, validación y prueba.\n",
    "        \"\"\"\n",
    "        train, test = train_test_split(self.dataset, test_size=test_size, random_state=42)\n",
    "        val, test = train_test_split(test, test_size=val_size, random_state=42)\n",
    "        return train, val, test"
   ],
   "metadata": {
    "collapsed": false,
    "ExecuteTime": {
     "end_time": "2023-12-15T01:07:36.910494Z",
     "start_time": "2023-12-15T01:07:36.903978Z"
    }
   },
   "id": "f479621dea0642b7"
  },
  {
   "cell_type": "code",
   "execution_count": 14,
   "outputs": [],
   "source": [
    "# Suponiendo que 'dataset' es tu DataFrame cargado\n",
    "\n",
    "# 1. Inicializar la clase con tu dataset\n",
    "preparation = DatasetPreparation(dataset)\n",
    "\n",
    "# 2. Convertir los embeddings de string a formato numérico\n",
    "embedding_columns = ['question_embedding', 'answer_embedding']\n",
    "preparation.convert_embeddings_to_numeric(embedding_columns)\n",
    "\n",
    "# 3. Normalizar los embeddings\n",
    "preparation.normalize_embeddings(embedding_columns)\n",
    "\n",
    "# 4. Dividir el dataset en conjuntos de entrenamiento, validación y prueba\n",
    "train, val, test = preparation.split_dataset()\n",
    "\n",
    "# Después de ejecutar estos pasos, tendrás 'train', 'val', y 'test' listos para usar"
   ],
   "metadata": {
    "collapsed": false,
    "ExecuteTime": {
     "end_time": "2023-12-15T01:07:38.739045Z",
     "start_time": "2023-12-15T01:07:38.641314Z"
    }
   },
   "id": "fc77b518dc45443c"
  },
  {
   "cell_type": "code",
   "execution_count": 15,
   "outputs": [],
   "source": [
    "from transformers import pipeline\n",
    "\n",
    "class EmotionalChatbotModel:\n",
    "    def __init__(self, model_name):\n",
    "        # Inicializa el modelo de Hugging Face\n",
    "        self.model = pipeline(\"text-generation\", model=model_name)\n",
    "\n",
    "    def generate_response(self, input_text):\n",
    "        \"\"\"\n",
    "        Genera una respuesta del chatbot basada en el texto de entrada.\n",
    "        \"\"\"\n",
    "        response = self.model(input_text)[0]['generated_text']\n",
    "        return response"
   ],
   "metadata": {
    "collapsed": false,
    "ExecuteTime": {
     "end_time": "2023-12-15T01:07:39.682229Z",
     "start_time": "2023-12-15T01:07:39.642869Z"
    }
   },
   "id": "5720a1de25e348fe"
  },
  {
   "cell_type": "code",
   "execution_count": 16,
   "outputs": [
    {
     "name": "stderr",
     "output_type": "stream",
     "text": [
      "Setting `pad_token_id` to `eos_token_id`:28895 for open-end generation.\n"
     ]
    },
    {
     "name": "stdout",
     "output_type": "stream",
     "text": [
      "Chatbot response: What is depression?\n",
      "\n",
      "[|Other person I know seems miserable and lacks interest in activities. Do you think I need to see a doctor for depression?\n",
      "[|Yes, I should see a\n"
     ]
    }
   ],
   "source": [
    "# Uso de la clase\n",
    "model_name = \"Mohammed-Altaf/Medical-ChatBot\"  # Reemplaza esto con el modelo que elijas\n",
    "chatbot_model = EmotionalChatbotModel(model_name)\n",
    "\n",
    "# Ejemplo de generación de respuesta\n",
    "input_question = \"What is depression?\"\n",
    "response = chatbot_model.generate_response(input_question)\n",
    "print(\"Chatbot response:\", response)"
   ],
   "metadata": {
    "collapsed": false,
    "ExecuteTime": {
     "end_time": "2023-12-15T01:09:04.057258Z",
     "start_time": "2023-12-15T01:07:42.031270Z"
    }
   },
   "id": "1c9af082e9f39ca3"
  },
  {
   "cell_type": "code",
   "execution_count": 20,
   "outputs": [],
   "source": [
    "import gradio as gr\n",
    "import random\n",
    "\n",
    "class GradioChatbotInterface:\n",
    "    def __init__(self, chatbot_model):\n",
    "        self.chatbot_model = chatbot_model\n",
    "\n",
    "    def chat(self, message):\n",
    "        response = self.chatbot_model.generate_response(message)\n",
    "        return response\n",
    "\n",
    "    def launch(self):\n",
    "        interface = gr.Interface(\n",
    "            fn=self.chat, \n",
    "            inputs=gr.Textbox(lines=2, placeholder=\"Type a message...\"),\n",
    "            outputs=\"text\",\n",
    "            title=\"Chatbot\",\n",
    "            description=\"This is a chatbot interface.\"\n",
    "        )\n",
    "        interface.launch()"
   ],
   "metadata": {
    "collapsed": false,
    "ExecuteTime": {
     "end_time": "2023-12-15T01:15:25.138242Z",
     "start_time": "2023-12-15T01:15:25.117030Z"
    }
   },
   "id": "6415dcd93babcc"
  },
  {
   "cell_type": "code",
   "execution_count": 21,
   "outputs": [
    {
     "name": "stdout",
     "output_type": "stream",
     "text": [
      "Running on local URL:  http://127.0.0.1:7861\n",
      "\n",
      "To create a public link, set `share=True` in `launch()`.\n"
     ]
    },
    {
     "data": {
      "text/plain": "<IPython.core.display.HTML object>",
      "text/html": "<div><iframe src=\"http://127.0.0.1:7861/\" width=\"100%\" height=\"500\" allow=\"autoplay; camera; microphone; clipboard-read; clipboard-write;\" frameborder=\"0\" allowfullscreen></iframe></div>"
     },
     "metadata": {},
     "output_type": "display_data"
    }
   ],
   "source": [
    "# Uso de la clase\n",
    "chatbot_interface = GradioChatbotInterface(chatbot_model)\n",
    "chatbot_interface.launch()"
   ],
   "metadata": {
    "collapsed": false,
    "ExecuteTime": {
     "end_time": "2023-12-15T01:15:30.760373Z",
     "start_time": "2023-12-15T01:15:30.667816Z"
    }
   },
   "id": "21d7d59fa41be222"
  },
  {
   "cell_type": "code",
   "execution_count": null,
   "outputs": [],
   "source": [],
   "metadata": {
    "collapsed": false
   },
   "id": "cf9699ff458f1ef1"
  }
 ],
 "metadata": {
  "kernelspec": {
   "display_name": "Python 3",
   "language": "python",
   "name": "python3"
  },
  "language_info": {
   "codemirror_mode": {
    "name": "ipython",
    "version": 3
   },
   "file_extension": ".py",
   "mimetype": "text/x-python",
   "name": "python",
   "nbconvert_exporter": "python",
   "pygments_lexer": "ipython3",
   "version": "3.11.7"
  }
 },
 "nbformat": 4,
 "nbformat_minor": 5
}
